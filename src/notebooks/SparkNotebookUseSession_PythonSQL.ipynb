{
 "cells": [
  {
   "cell_type": "markdown",
   "id": "81087381",
   "metadata": {},
   "source": [
    "### Notebook - Running Spark on OCI Dataflow using PySpark and Spark SQL\n",
    "<details>\n",
    "<summary><font size=\"2\">Check OCI Dataflow documentation for policies required;</font></summary>\n",
    "<li><a href=\"https://docs.public.oneportal.content.oci.oraclecloud.com/en-us/iaas/data-flow/using/policies-data-flow-studio.htm#policies-data-flow-studio\">Policies Required to Integrate Data Flow and Data Science</a></li>\n",
    "</details><details><summary><font size=\"2\">Check that the data science notebook session has privileges on OCI Dataflow family and any dependencies;</font></summary>\n",
    "\n",
    "```ALL {resource.type = 'datasciencenotebooksession', resource.compartment.id = '<compartment_id>'}```\n",
    "\n",
    "</details><details><summary><font size=\"2\">Policy for Data Science to manage OCI Data Flow</font></summary>\n",
    "\n",
    "```allow dynamic-group <ds-dynamic-group> to manage dataflow-family in compartment '<your-compartment-name>'```\n",
    "\n",
    "</details><details><summary><font size=\"2\">Policy statements for logging</font></summary>\n",
    "\n",
    "```allow dynamic-group <ds-dynamic-group> to manage log-groups in compartment '<your-compartment-name>'```\n",
    "```allow dynamic-group <ds-dynamic-group> to manage log-content in compartment '<your-compartment-name>'```\n",
    "</details>"
   ]
  },
  {
   "cell_type": "code",
   "execution_count": 1,
   "id": "254816ee",
   "metadata": {},
   "outputs": [],
   "source": [
    "import ads\n",
    "ads.set_auth(\"resource_principal\") # Supported values: resource_principal, api_key"
   ]
  },
  {
   "cell_type": "code",
   "execution_count": 2,
   "id": "4b332017",
   "metadata": {},
   "outputs": [],
   "source": [
    "load_ext dataflow.magics"
   ]
  },
  {
   "cell_type": "code",
   "execution_count": null,
   "id": "e53ee9a4",
   "metadata": {},
   "outputs": [],
   "source": [
    "%use_session -s your_session_id"
   ]
  },
  {
   "cell_type": "code",
   "execution_count": 4,
   "id": "3a2832e0",
   "metadata": {},
   "outputs": [
    {
     "data": {
      "application/vnd.jupyter.widget-view+json": {
       "model_id": "",
       "version_major": 2,
       "version_minor": 0
      },
      "text/plain": [
       "FloatProgress(value=0.0, bar_style='info', description='Progress:', layout=Layout(height='25px', width='50%'),…"
      ]
     },
     "metadata": {},
     "output_type": "display_data"
    },
    {
     "name": "stdout",
     "output_type": "stream",
     "text": [
      "+----+--------------+----------+----+----------+-----+\n",
      "|rank|          city|     state|code|population|price|\n",
      "+----+--------------+----------+----+----------+-----+\n",
      "| 295|    South Bend|   Indiana|  IN|    101190|112.9|\n",
      "|  10|Redwood Shores|California|  CA|     94065|200.9|\n",
      "+----+--------------+----------+----+----------+-----+"
     ]
    }
   ],
   "source": [
    "%%spark\n",
    "data = [[295, \"South Bend\", \"Indiana\", \"IN\", 101190, 112.9],[10, \"Redwood Shores\", \"California\", \"CA\", 94065, 200.9]]\n",
    "columns = [\"rank\", \"city\", \"state\", \"code\", \"population\", \"price\"]\n",
    "\n",
    "df1 = spark.createDataFrame(data, schema=\"rank LONG, city STRING, state STRING, code STRING, population LONG, price DOUBLE\")\n",
    "df1.show()"
   ]
  },
  {
   "cell_type": "code",
   "execution_count": 5,
   "id": "cb48c0b1",
   "metadata": {},
   "outputs": [
    {
     "data": {
      "application/vnd.jupyter.widget-view+json": {
       "model_id": "",
       "version_major": 2,
       "version_minor": 0
      },
      "text/plain": [
       "FloatProgress(value=0.0, bar_style='info', description='Progress:', layout=Layout(height='25px', width='50%'),…"
      ]
     },
     "metadata": {},
     "output_type": "display_data"
    },
    {
     "name": "stdout",
     "output_type": "stream",
     "text": [
      "DataFrame[]"
     ]
    }
   ],
   "source": [
    "%%spark\n",
    "schemaName = \"silverzone\"\n",
    "sqlContext.sql(\"Create schema \" + schemaName)\n",
    "sqlContext.sql(\"Use \" + schemaName)\n"
   ]
  },
  {
   "cell_type": "code",
   "execution_count": 6,
   "id": "d2029483",
   "metadata": {},
   "outputs": [
    {
     "data": {
      "application/vnd.jupyter.widget-view+json": {
       "model_id": "",
       "version_major": 2,
       "version_minor": 0
      },
      "text/plain": [
       "FloatProgress(value=0.0, bar_style='info', description='Progress:', layout=Layout(height='25px', width='50%'),…"
      ]
     },
     "metadata": {},
     "output_type": "display_data"
    }
   ],
   "source": [
    "%%spark\n",
    "df1.createOrReplaceTempView(\"df1_view\")"
   ]
  },
  {
   "cell_type": "code",
   "execution_count": 7,
   "id": "fac24e89",
   "metadata": {},
   "outputs": [
    {
     "data": {
      "application/vnd.jupyter.widget-view+json": {
       "model_id": "",
       "version_major": 2,
       "version_minor": 0
      },
      "text/plain": [
       "FloatProgress(value=0.0, bar_style='info', description='Progress:', layout=Layout(height='25px', width='50%'),…"
      ]
     },
     "metadata": {},
     "output_type": "display_data"
    },
    {
     "data": {
      "text/html": [
       "<div>\n",
       "<style scoped>\n",
       "    .dataframe tbody tr th:only-of-type {\n",
       "        vertical-align: middle;\n",
       "    }\n",
       "\n",
       "    .dataframe tbody tr th {\n",
       "        vertical-align: top;\n",
       "    }\n",
       "\n",
       "    .dataframe thead th {\n",
       "        text-align: right;\n",
       "    }\n",
       "</style>\n",
       "<table border=\"1\" class=\"dataframe\">\n",
       "  <thead>\n",
       "    <tr style=\"text-align: right;\">\n",
       "      <th></th>\n",
       "      <th>rank</th>\n",
       "      <th>city</th>\n",
       "      <th>state</th>\n",
       "      <th>code</th>\n",
       "      <th>population</th>\n",
       "      <th>price</th>\n",
       "    </tr>\n",
       "  </thead>\n",
       "  <tbody>\n",
       "    <tr>\n",
       "      <th>0</th>\n",
       "      <td>295</td>\n",
       "      <td>South Bend</td>\n",
       "      <td>Indiana</td>\n",
       "      <td>IN</td>\n",
       "      <td>101190</td>\n",
       "      <td>112.9</td>\n",
       "    </tr>\n",
       "    <tr>\n",
       "      <th>1</th>\n",
       "      <td>10</td>\n",
       "      <td>Redwood Shores</td>\n",
       "      <td>California</td>\n",
       "      <td>CA</td>\n",
       "      <td>94065</td>\n",
       "      <td>200.9</td>\n",
       "    </tr>\n",
       "  </tbody>\n",
       "</table>\n",
       "</div>"
      ],
      "text/plain": [
       "   rank            city       state code  population  price\n",
       "0   295      South Bend     Indiana   IN      101190  112.9\n",
       "1    10  Redwood Shores  California   CA       94065  200.9"
      ]
     },
     "execution_count": 7,
     "metadata": {},
     "output_type": "execute_result"
    }
   ],
   "source": [
    "%%spark -c sql -o rslt_view\n",
    "select  *\n",
    "from    df1_view; \n"
   ]
  },
  {
   "cell_type": "code",
   "execution_count": 8,
   "id": "4304ecde",
   "metadata": {},
   "outputs": [
    {
     "data": {
      "application/vnd.jupyter.widget-view+json": {
       "model_id": "8b26ded461ff4106b27dfda0d74af52d",
       "version_major": 2,
       "version_minor": 0
      },
      "text/plain": [
       "VBox(children=(HBox(children=(HTML(value='Type:'), Button(description='Table', layout=Layout(width='70px'), st…"
      ]
     },
     "metadata": {},
     "output_type": "display_data"
    },
    {
     "data": {
      "application/vnd.jupyter.widget-view+json": {
       "model_id": "947e8b016556402da1fdfd2a3b6e7000",
       "version_major": 2,
       "version_minor": 0
      },
      "text/plain": [
       "Output()"
      ]
     },
     "metadata": {},
     "output_type": "display_data"
    },
    {
     "data": {
      "application/vnd.jupyter.widget-view+json": {
       "model_id": "021ae6829d2c4361bed3f4953029d688",
       "version_major": 2,
       "version_minor": 0
      },
      "text/plain": [
       "AutoVizWidget()"
      ]
     },
     "metadata": {},
     "output_type": "display_data"
    }
   ],
   "source": [
    "from autovizwidget.widget.utils import display_dataframe\n",
    "display_dataframe(rslt_view)"
   ]
  },
  {
   "cell_type": "code",
   "execution_count": 28,
   "id": "078eec38",
   "metadata": {},
   "outputs": [
    {
     "data": {
      "application/vnd.jupyter.widget-view+json": {
       "model_id": "78ea9829caaf47e589f2cca6ef897761",
       "version_major": 2,
       "version_minor": 0
      },
      "text/plain": [
       "FloatProgress(value=0.0, bar_style='info', description='Progress:', layout=Layout(height='25px', width='50%'),…"
      ]
     },
     "metadata": {},
     "output_type": "display_data"
    },
    {
     "name": "stdout",
     "output_type": "stream",
     "text": [
      "Session has been stopped successfully.\n"
     ]
    }
   ],
   "source": [
    "%stop_session"
   ]
  },
  {
   "cell_type": "code",
   "execution_count": null,
   "id": "0950dcf2",
   "metadata": {},
   "outputs": [],
   "source": []
  }
 ],
 "metadata": {
  "kernelspec": {
   "display_name": "Python [conda env:pyspark32_p38_cpu_v2]",
   "language": "python",
   "name": "conda-env-pyspark32_p38_cpu_v2-py"
  },
  "language_info": {
   "codemirror_mode": {
    "name": "ipython",
    "version": 3
   },
   "file_extension": ".py",
   "mimetype": "text/x-python",
   "name": "python",
   "nbconvert_exporter": "python",
   "pygments_lexer": "ipython3",
   "version": "3.8.13"
  }
 },
 "nbformat": 4,
 "nbformat_minor": 5
}
